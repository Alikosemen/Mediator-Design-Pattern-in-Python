{
  "nbformat": 4,
  "nbformat_minor": 0,
  "metadata": {
    "colab": {
      "provenance": [],
      "authorship_tag": "ABX9TyMjWv6LINrh2VY4WmbKEkML",
      "include_colab_link": true
    },
    "kernelspec": {
      "name": "python3",
      "display_name": "Python 3"
    },
    "language_info": {
      "name": "python"
    }
  },
  "cells": [
    {
      "cell_type": "markdown",
      "metadata": {
        "id": "view-in-github",
        "colab_type": "text"
      },
      "source": [
        "<a href=\"https://colab.research.google.com/github/Alikosemen/Mediator-Design-Pattern-in-Python/blob/main/Mediator_Design_Pattern.ipynb\" target=\"_parent\"><img src=\"https://colab.research.google.com/assets/colab-badge.svg\" alt=\"Open In Colab\"/></a>"
      ]
    },
    {
      "cell_type": "markdown",
      "source": [
        "**This code illustrates a simple implementation of a Message Broker using\n",
        "the Mediator pattern in Python. It showcases how message participants communicate through the\n",
        "Message Broker without direct connections, emphasizing the decoupling\n",
        "aspect of the Mediator pattern.**"
      ],
      "metadata": {
        "id": "p_0Kt0kSU9YY"
      }
    },
    {
      "cell_type": "code",
      "execution_count": 3,
      "metadata": {
        "colab": {
          "base_uri": "https://localhost:8080/"
        },
        "id": "C8erO_oKUsQf",
        "outputId": "bbfb9565-beb6-4d8e-d14e-2f159d71ac03"
      },
      "outputs": [
        {
          "output_type": "stream",
          "name": "stdout",
          "text": [
            "Participant 2 received message: Hello from Participant 1\n",
            "Participant 1 received message: Hi from Participant 2\n"
          ]
        }
      ],
      "source": [
        "class Participant:\n",
        "  \"\"\"\n",
        "  Represents a message participant\n",
        "  \"\"\"\n",
        "  def __init__(self, mediator, name):\n",
        "    self._mediator = mediator\n",
        "    self.name = name\n",
        "\n",
        "  def send_message(self, message):\n",
        "    \"\"\"\n",
        "    Sends a message through the mediator\n",
        "    \"\"\"\n",
        "    self._mediator.send_message(message, self)\n",
        "\n",
        "  def receive_message(self, message):\n",
        "    \"\"\"\n",
        "    Receives and processes messages from the mediator\n",
        "    \"\"\"\n",
        "    print(f\"{self.name} received message: {message}\")\n",
        "\n",
        "\n",
        "from abc import ABC, abstractmethod\n",
        "\n",
        "class MessageBroker(ABC):\n",
        "  \"\"\"\n",
        "  Mediator interface (Message Broker) declares message handling\n",
        "  \"\"\"\n",
        "  @abstractmethod\n",
        "  def send_message(self, message, participant):\n",
        "    \"\"\"\n",
        "    Send a message to a participant\n",
        "    \"\"\"\n",
        "    pass\n",
        "\n",
        "class ConcreteMessageBroker(MessageBroker):\n",
        "  \"\"\"\n",
        "  Concrete Message Broker manages message passing between participants\n",
        "  \"\"\"\n",
        "  def __init__(self):\n",
        "    self.participants = []\n",
        "\n",
        "  def add_participant(self, participant):\n",
        "    \"\"\"\n",
        "    Adds a participant to the broker\n",
        "    \"\"\"\n",
        "    self.participants.append(participant)\n",
        "\n",
        "  def send_message(self, message, participant):\n",
        "    \"\"\"\n",
        "    Send a message to all participants except the sender\n",
        "    \"\"\"\n",
        "    for p in self.participants:\n",
        "      if p!= participant:\n",
        "        p.receive_message(message)\n",
        "\n",
        "message_broker = ConcreteMessageBroker()\n",
        "\n",
        "# Produce participants and link them to the broker\n",
        "participant1 = Participant(message_broker, \"Participant 1\")\n",
        "participant2 = Participant(message_broker, \"Participant 2\")\n",
        "\n",
        "# Add participants to the broker\n",
        "message_broker.add_participant(participant1)\n",
        "message_broker.add_participant(participant2)\n",
        "\n",
        "# Send messages through participants\n",
        "participant1.send_message(\"Hello from Participant 1\")\n",
        "participant2.send_message(\"Hi from Participant 2\")\n"
      ]
    }
  ]
}